{
 "cells": [
  {
   "cell_type": "code",
   "execution_count": 1,
   "metadata": {
    "execution": {
     "iopub.execute_input": "2022-07-06T08:06:48.757081Z",
     "iopub.status.busy": "2022-07-06T08:06:48.756365Z",
     "iopub.status.idle": "2022-07-06T08:06:49.741917Z",
     "shell.execute_reply": "2022-07-06T08:06:49.741095Z",
     "shell.execute_reply.started": "2022-07-06T08:06:48.756887Z"
    }
   },
   "outputs": [],
   "source": [
    "from Module_20220302 import *"
   ]
  },
  {
   "cell_type": "code",
   "execution_count": 2,
   "metadata": {
    "execution": {
     "iopub.execute_input": "2022-07-06T08:06:49.743593Z",
     "iopub.status.busy": "2022-07-06T08:06:49.743403Z",
     "iopub.status.idle": "2022-07-06T08:08:27.863471Z",
     "shell.execute_reply": "2022-07-06T08:08:27.862602Z",
     "shell.execute_reply.started": "2022-07-06T08:06:49.743568Z"
    }
   },
   "outputs": [
    {
     "name": "stdout",
     "output_type": "stream",
     "text": [
      "1\n",
      "101\n",
      "201\n",
      "301\n",
      "401\n",
      "501\n",
      "601\n",
      "701\n",
      "801\n",
      "901\n",
      "1001\n",
      "1101\n",
      "1201\n",
      "1301\n",
      "1401\n",
      "1501\n",
      "1601\n",
      "1701\n",
      "1801\n",
      "1901\n",
      "2001\n",
      "2101\n",
      "1\n",
      "101\n",
      "201\n",
      "301\n",
      "401\n",
      "501\n",
      "601\n",
      "701\n",
      "801\n",
      "901\n",
      "1001\n",
      "1101\n",
      "1201\n",
      "1301\n",
      "1401\n",
      "1501\n",
      "1601\n",
      "1701\n",
      "1801\n",
      "1901\n",
      "2001\n",
      "2101\n"
     ]
    }
   ],
   "source": [
    "tmax = 200\n",
    "N_ics = 50\n",
    "ic_range = [0.1,5]\n",
    "\n",
    "table_aFGF = []\n",
    "table_aFGF = np.array([]).reshape(0,12)\n",
    "\n",
    "for FGF in [0.85]:\n",
    "    for equations in [equations_NG_and_F, equations_NGE_and_F]:\n",
    "        if equations == equations_NG_and_F:\n",
    "            file_label = 2\n",
    "            ics = generate_ic_to_scan_deterministic_triangle(parameters, ic_range=ic_range, N_points_1D = N_ics, file_label = file_label)\n",
    "            table2 = scan_ic_timess(parameters, equations, FGF, ics, tmax, file_label = file_label)\n",
    "        if equations == equations_NGE_and_F:\n",
    "            file_label = 3\n",
    "            ics = generate_ic_to_scan_deterministic_triangle(parameters, ic_range=ic_range, N_points_1D = N_ics, file_label = file_label)\n",
    "            table3 = scan_ic_timess(parameters, equations, FGF, ics, tmax, file_label = file_label)\n",
    "    table = np.concatenate((table2,table3),axis=1)\n",
    "    table_aFGF = np.concatenate((table_aFGF,table), axis=0)"
   ]
  },
  {
   "cell_type": "code",
   "execution_count": 3,
   "metadata": {
    "execution": {
     "iopub.execute_input": "2022-07-06T08:08:27.864888Z",
     "iopub.status.busy": "2022-07-06T08:08:27.864710Z",
     "iopub.status.idle": "2022-07-06T08:08:27.902965Z",
     "shell.execute_reply": "2022-07-06T08:08:27.902220Z",
     "shell.execute_reply.started": "2022-07-06T08:08:27.864863Z"
    }
   },
   "outputs": [
    {
     "data": {
      "text/html": [
       "<div>\n",
       "<style scoped>\n",
       "    .dataframe tbody tr th:only-of-type {\n",
       "        vertical-align: middle;\n",
       "    }\n",
       "\n",
       "    .dataframe tbody tr th {\n",
       "        vertical-align: top;\n",
       "    }\n",
       "\n",
       "    .dataframe thead th {\n",
       "        text-align: right;\n",
       "    }\n",
       "</style>\n",
       "<table border=\"1\" class=\"dataframe\">\n",
       "  <thead>\n",
       "    <tr style=\"text-align: right;\">\n",
       "      <th></th>\n",
       "      <th>FGF_GNF</th>\n",
       "      <th>ICG_GNF</th>\n",
       "      <th>ICN_GNF</th>\n",
       "      <th>ICE_GNF</th>\n",
       "      <th>time_to_ss_GNF</th>\n",
       "      <th>network</th>\n",
       "      <th>FGF_GNEF</th>\n",
       "      <th>ICG_GNEF</th>\n",
       "      <th>ICN_GNEF</th>\n",
       "      <th>ICE_GNEF</th>\n",
       "      <th>time_to_ss_GNEF</th>\n",
       "      <th>network</th>\n",
       "      <th>delta_tss</th>\n",
       "      <th>average_tss</th>\n",
       "      <th>delta_tss_norm</th>\n",
       "    </tr>\n",
       "  </thead>\n",
       "  <tbody>\n",
       "    <tr>\n",
       "      <th>0</th>\n",
       "      <td>0.85</td>\n",
       "      <td>0.100000</td>\n",
       "      <td>0.100000</td>\n",
       "      <td>0.0</td>\n",
       "      <td>23.384466</td>\n",
       "      <td>2.0</td>\n",
       "      <td>0.85</td>\n",
       "      <td>0.100000</td>\n",
       "      <td>0.100000</td>\n",
       "      <td>0.994172</td>\n",
       "      <td>24.639750</td>\n",
       "      <td>3.0</td>\n",
       "      <td>1.255283</td>\n",
       "      <td>24.012108</td>\n",
       "      <td>5.227710</td>\n",
       "    </tr>\n",
       "    <tr>\n",
       "      <th>1</th>\n",
       "      <td>0.85</td>\n",
       "      <td>0.108311</td>\n",
       "      <td>0.100000</td>\n",
       "      <td>0.0</td>\n",
       "      <td>26.199693</td>\n",
       "      <td>2.0</td>\n",
       "      <td>0.85</td>\n",
       "      <td>0.108311</td>\n",
       "      <td>0.100000</td>\n",
       "      <td>0.994172</td>\n",
       "      <td>24.693068</td>\n",
       "      <td>3.0</td>\n",
       "      <td>-1.506625</td>\n",
       "      <td>25.446380</td>\n",
       "      <td>-5.920783</td>\n",
       "    </tr>\n",
       "    <tr>\n",
       "      <th>2</th>\n",
       "      <td>0.85</td>\n",
       "      <td>0.117313</td>\n",
       "      <td>0.100000</td>\n",
       "      <td>0.0</td>\n",
       "      <td>25.467558</td>\n",
       "      <td>2.0</td>\n",
       "      <td>0.85</td>\n",
       "      <td>0.117313</td>\n",
       "      <td>0.100000</td>\n",
       "      <td>0.994172</td>\n",
       "      <td>24.815131</td>\n",
       "      <td>3.0</td>\n",
       "      <td>-0.652427</td>\n",
       "      <td>25.141344</td>\n",
       "      <td>-2.595037</td>\n",
       "    </tr>\n",
       "    <tr>\n",
       "      <th>3</th>\n",
       "      <td>0.85</td>\n",
       "      <td>0.127063</td>\n",
       "      <td>0.100000</td>\n",
       "      <td>0.0</td>\n",
       "      <td>24.629214</td>\n",
       "      <td>2.0</td>\n",
       "      <td>0.85</td>\n",
       "      <td>0.127063</td>\n",
       "      <td>0.100000</td>\n",
       "      <td>0.994172</td>\n",
       "      <td>24.893837</td>\n",
       "      <td>3.0</td>\n",
       "      <td>0.264623</td>\n",
       "      <td>24.761525</td>\n",
       "      <td>1.068685</td>\n",
       "    </tr>\n",
       "    <tr>\n",
       "      <th>4</th>\n",
       "      <td>0.85</td>\n",
       "      <td>0.137623</td>\n",
       "      <td>0.100000</td>\n",
       "      <td>0.0</td>\n",
       "      <td>24.506427</td>\n",
       "      <td>2.0</td>\n",
       "      <td>0.85</td>\n",
       "      <td>0.137623</td>\n",
       "      <td>0.100000</td>\n",
       "      <td>0.994172</td>\n",
       "      <td>25.419576</td>\n",
       "      <td>3.0</td>\n",
       "      <td>0.913148</td>\n",
       "      <td>24.963001</td>\n",
       "      <td>3.658007</td>\n",
       "    </tr>\n",
       "    <tr>\n",
       "      <th>...</th>\n",
       "      <td>...</td>\n",
       "      <td>...</td>\n",
       "      <td>...</td>\n",
       "      <td>...</td>\n",
       "      <td>...</td>\n",
       "      <td>...</td>\n",
       "      <td>...</td>\n",
       "      <td>...</td>\n",
       "      <td>...</td>\n",
       "      <td>...</td>\n",
       "      <td>...</td>\n",
       "      <td>...</td>\n",
       "      <td>...</td>\n",
       "      <td>...</td>\n",
       "      <td>...</td>\n",
       "    </tr>\n",
       "    <tr>\n",
       "      <th>2192</th>\n",
       "      <td>0.85</td>\n",
       "      <td>0.260660</td>\n",
       "      <td>4.616333</td>\n",
       "      <td>0.0</td>\n",
       "      <td>21.769302</td>\n",
       "      <td>2.0</td>\n",
       "      <td>0.85</td>\n",
       "      <td>0.260660</td>\n",
       "      <td>4.616333</td>\n",
       "      <td>12.938704</td>\n",
       "      <td>22.996612</td>\n",
       "      <td>3.0</td>\n",
       "      <td>1.227310</td>\n",
       "      <td>22.382957</td>\n",
       "      <td>5.483235</td>\n",
       "    </tr>\n",
       "    <tr>\n",
       "      <th>2193</th>\n",
       "      <td>0.85</td>\n",
       "      <td>0.282324</td>\n",
       "      <td>4.616333</td>\n",
       "      <td>0.0</td>\n",
       "      <td>21.794079</td>\n",
       "      <td>2.0</td>\n",
       "      <td>0.85</td>\n",
       "      <td>0.282324</td>\n",
       "      <td>4.616333</td>\n",
       "      <td>12.938704</td>\n",
       "      <td>23.038589</td>\n",
       "      <td>3.0</td>\n",
       "      <td>1.244510</td>\n",
       "      <td>22.416334</td>\n",
       "      <td>5.551802</td>\n",
       "    </tr>\n",
       "    <tr>\n",
       "      <th>2194</th>\n",
       "      <td>0.85</td>\n",
       "      <td>0.305788</td>\n",
       "      <td>4.616333</td>\n",
       "      <td>0.0</td>\n",
       "      <td>21.817026</td>\n",
       "      <td>2.0</td>\n",
       "      <td>0.85</td>\n",
       "      <td>0.305788</td>\n",
       "      <td>4.616333</td>\n",
       "      <td>12.938704</td>\n",
       "      <td>23.083291</td>\n",
       "      <td>3.0</td>\n",
       "      <td>1.266265</td>\n",
       "      <td>22.450159</td>\n",
       "      <td>5.640338</td>\n",
       "    </tr>\n",
       "    <tr>\n",
       "      <th>2195</th>\n",
       "      <td>0.85</td>\n",
       "      <td>0.331202</td>\n",
       "      <td>4.616333</td>\n",
       "      <td>0.0</td>\n",
       "      <td>21.837371</td>\n",
       "      <td>2.0</td>\n",
       "      <td>0.85</td>\n",
       "      <td>0.331202</td>\n",
       "      <td>4.616333</td>\n",
       "      <td>12.938704</td>\n",
       "      <td>23.130961</td>\n",
       "      <td>3.0</td>\n",
       "      <td>1.293590</td>\n",
       "      <td>22.484166</td>\n",
       "      <td>5.753336</td>\n",
       "    </tr>\n",
       "    <tr>\n",
       "      <th>2196</th>\n",
       "      <td>0.85</td>\n",
       "      <td>0.358728</td>\n",
       "      <td>4.616333</td>\n",
       "      <td>0.0</td>\n",
       "      <td>21.854179</td>\n",
       "      <td>2.0</td>\n",
       "      <td>0.85</td>\n",
       "      <td>0.358728</td>\n",
       "      <td>4.616333</td>\n",
       "      <td>12.938704</td>\n",
       "      <td>23.181864</td>\n",
       "      <td>3.0</td>\n",
       "      <td>1.327685</td>\n",
       "      <td>22.518022</td>\n",
       "      <td>5.896098</td>\n",
       "    </tr>\n",
       "  </tbody>\n",
       "</table>\n",
       "<p>2197 rows × 15 columns</p>\n",
       "</div>"
      ],
      "text/plain": [
       "      FGF_GNF   ICG_GNF   ICN_GNF  ICE_GNF  time_to_ss_GNF  network  FGF_GNEF  \\\n",
       "0        0.85  0.100000  0.100000      0.0       23.384466      2.0      0.85   \n",
       "1        0.85  0.108311  0.100000      0.0       26.199693      2.0      0.85   \n",
       "2        0.85  0.117313  0.100000      0.0       25.467558      2.0      0.85   \n",
       "3        0.85  0.127063  0.100000      0.0       24.629214      2.0      0.85   \n",
       "4        0.85  0.137623  0.100000      0.0       24.506427      2.0      0.85   \n",
       "...       ...       ...       ...      ...             ...      ...       ...   \n",
       "2192     0.85  0.260660  4.616333      0.0       21.769302      2.0      0.85   \n",
       "2193     0.85  0.282324  4.616333      0.0       21.794079      2.0      0.85   \n",
       "2194     0.85  0.305788  4.616333      0.0       21.817026      2.0      0.85   \n",
       "2195     0.85  0.331202  4.616333      0.0       21.837371      2.0      0.85   \n",
       "2196     0.85  0.358728  4.616333      0.0       21.854179      2.0      0.85   \n",
       "\n",
       "      ICG_GNEF  ICN_GNEF   ICE_GNEF  time_to_ss_GNEF  network  delta_tss  \\\n",
       "0     0.100000  0.100000   0.994172        24.639750      3.0   1.255283   \n",
       "1     0.108311  0.100000   0.994172        24.693068      3.0  -1.506625   \n",
       "2     0.117313  0.100000   0.994172        24.815131      3.0  -0.652427   \n",
       "3     0.127063  0.100000   0.994172        24.893837      3.0   0.264623   \n",
       "4     0.137623  0.100000   0.994172        25.419576      3.0   0.913148   \n",
       "...        ...       ...        ...              ...      ...        ...   \n",
       "2192  0.260660  4.616333  12.938704        22.996612      3.0   1.227310   \n",
       "2193  0.282324  4.616333  12.938704        23.038589      3.0   1.244510   \n",
       "2194  0.305788  4.616333  12.938704        23.083291      3.0   1.266265   \n",
       "2195  0.331202  4.616333  12.938704        23.130961      3.0   1.293590   \n",
       "2196  0.358728  4.616333  12.938704        23.181864      3.0   1.327685   \n",
       "\n",
       "      average_tss  delta_tss_norm  \n",
       "0       24.012108        5.227710  \n",
       "1       25.446380       -5.920783  \n",
       "2       25.141344       -2.595037  \n",
       "3       24.761525        1.068685  \n",
       "4       24.963001        3.658007  \n",
       "...           ...             ...  \n",
       "2192    22.382957        5.483235  \n",
       "2193    22.416334        5.551802  \n",
       "2194    22.450159        5.640338  \n",
       "2195    22.484166        5.753336  \n",
       "2196    22.518022        5.896098  \n",
       "\n",
       "[2197 rows x 15 columns]"
      ]
     },
     "execution_count": 3,
     "metadata": {},
     "output_type": "execute_result"
    }
   ],
   "source": [
    "table_pd = pd.DataFrame(table_aFGF)\n",
    "table_pd[12] = table_pd[10]-table_pd[4] # GNFE-GNF\n",
    "table_pd[13] = (table_pd[10]+table_pd[4])/2\n",
    "table_pd[14] = (table_pd[12]/table_pd[13])*100\n",
    "table_pd.columns=[\"FGF_GNF\",\"ICG_GNF\",\"ICN_GNF\",\"ICE_GNF\",\"time_to_ss_GNF\",\"network\",\"FGF_GNEF\",\"ICG_GNEF\",\"ICN_GNEF\",\"ICE_GNEF\",\"time_to_ss_GNEF\",\"network\",\"delta_tss\",\"average_tss\",\"delta_tss_norm\"]\n",
    "#table_pd['delta_tss'] = table_pd['delta_tss'].astype(float)\n",
    "table_pd"
   ]
  },
  {
   "cell_type": "code",
   "execution_count": 4,
   "metadata": {
    "execution": {
     "iopub.execute_input": "2022-07-06T08:08:27.904016Z",
     "iopub.status.busy": "2022-07-06T08:08:27.903783Z",
     "iopub.status.idle": "2022-07-06T08:08:27.911288Z",
     "shell.execute_reply": "2022-07-06T08:08:27.910387Z",
     "shell.execute_reply.started": "2022-07-06T08:08:27.903991Z"
    }
   },
   "outputs": [],
   "source": [
    "FGF85 = table_pd"
   ]
  },
  {
   "cell_type": "code",
   "execution_count": 5,
   "metadata": {
    "execution": {
     "iopub.execute_input": "2022-07-06T08:08:27.913115Z",
     "iopub.status.busy": "2022-07-06T08:08:27.912835Z",
     "iopub.status.idle": "2022-07-06T08:08:27.929662Z",
     "shell.execute_reply": "2022-07-06T08:08:27.928841Z",
     "shell.execute_reply.started": "2022-07-06T08:08:27.913085Z"
    }
   },
   "outputs": [
    {
     "name": "stdout",
     "output_type": "stream",
     "text": [
      "1.948993288590604\n",
      "1452\n",
      "745\n",
      "2197\n",
      "0.6609012289485662\n",
      "0.33909877105143377\n"
     ]
    }
   ],
   "source": [
    "FGF85ratio = (np.shape(FGF85.loc[(FGF85['delta_tss'] > 0)])[0])/(np.shape(FGF85.loc[(FGF85['delta_tss'] < 0)])[0])\n",
    "print(FGF85ratio)\n",
    "print(np.shape(FGF85.loc[(FGF85['delta_tss'] > 0)])[0])\n",
    "print(np.shape(FGF85.loc[(FGF85['delta_tss'] < 0)])[0])\n",
    "print(np.shape(FGF85)[0])\n",
    "\n",
    "print(np.shape(FGF85.loc[(FGF85['delta_tss'] > 0)])[0]/(np.shape(FGF85)[0]))\n",
    "print(np.shape(FGF85.loc[(FGF85['delta_tss'] < 0)])[0]/(np.shape(FGF85)[0]))"
   ]
  },
  {
   "cell_type": "code",
   "execution_count": 6,
   "metadata": {
    "execution": {
     "iopub.execute_input": "2022-07-06T08:08:27.930779Z",
     "iopub.status.busy": "2022-07-06T08:08:27.930538Z",
     "iopub.status.idle": "2022-07-06T08:08:27.946324Z",
     "shell.execute_reply": "2022-07-06T08:08:27.945560Z",
     "shell.execute_reply.started": "2022-07-06T08:08:27.930753Z"
    }
   },
   "outputs": [
    {
     "name": "stdout",
     "output_type": "stream",
     "text": [
      "1.948993288590604\n",
      "1452\n",
      "745\n",
      "2197\n",
      "0.6609012289485662\n",
      "0.33909877105143377\n"
     ]
    }
   ],
   "source": [
    "FGF85ratio = (np.shape(FGF85.loc[(FGF85['delta_tss_norm'] > 0)])[0])/(np.shape(FGF85.loc[(FGF85['delta_tss_norm'] < 0)])[0])\n",
    "print(FGF85ratio)\n",
    "print(np.shape(FGF85.loc[(FGF85['delta_tss_norm'] > 0)])[0])\n",
    "print(np.shape(FGF85.loc[(FGF85['delta_tss_norm'] < 0)])[0])\n",
    "print(np.shape(FGF85)[0])\n",
    "\n",
    "print(np.shape(FGF85.loc[(FGF85['delta_tss_norm'] > 0)])[0]/(np.shape(FGF85)[0]))\n",
    "print(np.shape(FGF85.loc[(FGF85['delta_tss_norm'] < 0)])[0]/(np.shape(FGF85)[0]))"
   ]
  },
  {
   "cell_type": "code",
   "execution_count": 7,
   "metadata": {
    "execution": {
     "iopub.execute_input": "2022-07-06T08:08:27.947424Z",
     "iopub.status.busy": "2022-07-06T08:08:27.947185Z",
     "iopub.status.idle": "2022-07-06T08:08:28.506467Z",
     "shell.execute_reply": "2022-07-06T08:08:28.505655Z",
     "shell.execute_reply.started": "2022-07-06T08:08:27.947398Z"
    }
   },
   "outputs": [
    {
     "data": {
      "text/plain": [
       "Text(0.5, 0, 'tssGNF-tssGNEF')"
      ]
     },
     "execution_count": 7,
     "metadata": {},
     "output_type": "execute_result"
    },
    {
     "data": {
      "image/png": "[encoded data removed]",
      "text/plain": [
       "<Figure size 504x360 with 1 Axes>"
      ]
     },
     "metadata": {
      "needs_background": "light"
     },
     "output_type": "display_data"
    }
   ],
   "source": [
    "plt.figure(figsize = (7,5))\n",
    "plt.subplot(1, 1, 1)\n",
    "\n",
    "plt.xlim(-9,9)\n",
    "#plt.ylim(0,100)\n",
    "plt.hist(FGF85['delta_tss'], bins = 200)\n",
    "plt.title(\"FGF 0.85\")\n",
    "plt.text(-19,30, s ='neg/pos =' + str(FGF85ratio))\n",
    "plt.xlabel(\"tssGNF-tssGNEF\")"
   ]
  },
  {
   "cell_type": "code",
   "execution_count": 10,
   "metadata": {
    "execution": {
     "iopub.execute_input": "2022-07-06T08:08:56.727166Z",
     "iopub.status.busy": "2022-07-06T08:08:56.726539Z",
     "iopub.status.idle": "2022-07-06T08:08:57.097534Z",
     "shell.execute_reply": "2022-07-06T08:08:57.096742Z",
     "shell.execute_reply.started": "2022-07-06T08:08:56.727087Z"
    }
   },
   "outputs": [
    {
     "data": {
      "text/plain": [
       "Text(0.5, 0, 'tssGNF-tssGNEF')"
      ]
     },
     "execution_count": 10,
     "metadata": {},
     "output_type": "execute_result"
    },
    {
     "data": {
      "image/png": "[encoded data removed]",
      "text/plain": [
       "<Figure size 504x360 with 1 Axes>"
      ]
     },
     "metadata": {
      "needs_background": "light"
     },
     "output_type": "display_data"
    }
   ],
   "source": [
    "plt.figure(figsize = (7,5))\n",
    "plt.subplot(1, 1, 1)\n",
    "\n",
    "plt.xlim(-40,40)\n",
    "#plt.ylim(0,100)\n",
    "plt.hist(FGF85['delta_tss_norm'], bins = 100)\n",
    "plt.title(\"FGF 0.85\")\n",
    "plt.text(-35,65, s ='neg/pos =' + str(FGF85ratio))\n",
    "plt.xlabel(\"tssGNF-tssGNEF\")"
   ]
  },
  {
   "cell_type": "code",
   "execution_count": 7,
   "metadata": {
    "execution": {
     "iopub.execute_input": "2022-06-16T08:40:51.196883Z",
     "iopub.status.busy": "2022-06-16T08:40:51.196685Z",
     "iopub.status.idle": "2022-06-16T08:40:51.495625Z",
     "shell.execute_reply": "2022-06-16T08:40:51.494800Z",
     "shell.execute_reply.started": "2022-06-16T08:40:51.196844Z"
    }
   },
   "outputs": [
    {
     "name": "stderr",
     "output_type": "stream",
     "text": [
      "/opt/conda/envs/EGENmodel/lib/python3.7/site-packages/seaborn/distributions.py:2619: FutureWarning: `distplot` is a deprecated function and will be removed in a future version. Please adapt your code to use either `displot` (a figure-level function with similar flexibility) or `histplot` (an axes-level function for histograms).\n",
      "  warnings.warn(msg, FutureWarning)\n"
     ]
    },
    {
     "data": {
      "image/png": "[encoded data removed]",
      "text/plain": [
       "<Figure size 800x480 with 1 Axes>"
      ]
     },
     "metadata": {},
     "output_type": "display_data"
    }
   ],
   "source": [
    "sns.set_style(\"ticks\")\n",
    "\n",
    "# Import data\n",
    "\n",
    "# Plot\n",
    "kwargs = dict(hist_kws={'alpha':.6}, kde_kws={'linewidth':1.5}, bins = 30)\n",
    "\n",
    "plt.figure(figsize=(10,6), dpi= 80)\n",
    "\n",
    "#plt.plot([0, 0], [0, 0.23], 'k-', lw=2)\n",
    "#plt.xticks([-10,-7.5,-5,-2.5,0, 0.25,5,7,5,10])\n",
    "#plt.yticks([0, 0.05, 0.1, 0.15, 0.2])\n",
    "plt.xlim(-10,10)\n",
    "sns.distplot(FGF85['delta_tss'], color=\"steelblue\", label=\"Δt\", **kwargs)\n",
    "plt.legend();\n"
   ]
  },
  {
   "cell_type": "code",
   "execution_count": null,
   "metadata": {},
   "outputs": [],
   "source": []
  }
 ],
 "metadata": {
  "kernelspec": {
   "display_name": "Python [conda env:EGENmodel]",
   "language": "python",
   "name": "conda-env-EGENmodel-py"
  },
  "language_info": {
   "codemirror_mode": {
    "name": "ipython",
    "version": 3
   },
   "file_extension": ".py",
   "mimetype": "text/x-python",
   "name": "python",
   "nbconvert_exporter": "python",
   "pygments_lexer": "ipython3",
   "version": "3.7.12"
  }
 },
 "nbformat": 4,
 "nbformat_minor": 4
}
