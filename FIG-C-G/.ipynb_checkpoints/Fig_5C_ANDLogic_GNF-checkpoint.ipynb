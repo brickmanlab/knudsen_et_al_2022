{
 "cells": [
  {
   "cell_type": "code",
   "execution_count": 1,
   "metadata": {
    "execution": {
     "iopub.execute_input": "2022-07-06T07:38:07.242788Z",
     "iopub.status.busy": "2022-07-06T07:38:07.242488Z",
     "iopub.status.idle": "2022-07-06T07:38:08.278400Z",
     "shell.execute_reply": "2022-07-06T07:38:08.277645Z",
     "shell.execute_reply.started": "2022-07-06T07:38:07.242702Z"
    }
   },
   "outputs": [],
   "source": [
    "from Module_20220302 import *"
   ]
  },
  {
   "cell_type": "code",
   "execution_count": 2,
   "metadata": {
    "execution": {
     "iopub.execute_input": "2022-07-06T07:38:08.280008Z",
     "iopub.status.busy": "2022-07-06T07:38:08.279770Z",
     "iopub.status.idle": "2022-07-06T07:38:08.283557Z",
     "shell.execute_reply": "2022-07-06T07:38:08.282967Z",
     "shell.execute_reply.started": "2022-07-06T07:38:08.279970Z"
    }
   },
   "outputs": [],
   "source": [
    "equation = equations_NG_and_F\n",
    "file_label = 2"
   ]
  },
  {
   "cell_type": "markdown",
   "metadata": {},
   "source": [
    "## Create a list of FGF values for bifuration plot"
   ]
  },
  {
   "cell_type": "code",
   "execution_count": 3,
   "metadata": {
    "execution": {
     "iopub.execute_input": "2022-07-06T07:38:08.284707Z",
     "iopub.status.busy": "2022-07-06T07:38:08.284479Z",
     "iopub.status.idle": "2022-07-06T07:38:08.294446Z",
     "shell.execute_reply": "2022-07-06T07:38:08.293829Z",
     "shell.execute_reply.started": "2022-07-06T07:38:08.284679Z"
    }
   },
   "outputs": [],
   "source": [
    "## Bifurcation plots, Nanog/Gata vs FGF\n",
    "#Creat a list of FGF where we will evaluate our system, i..e get var1(tmax) and var2(tmac) with given ic.\n",
    "FGF_list = []\n",
    "FGF_list = np.logspace(lin_to_log(0.3),lin_to_log(2.5),50, base = 2 )# do log-spaced FGF, "
   ]
  },
  {
   "cell_type": "markdown",
   "metadata": {
    "tags": []
   },
   "source": [
    "# Scan initial conditions  and see where they end up after tmax\n",
    "Pick rnadom Nanog and Gata, with some fixed EssrB,  randomly form loguniform\n",
    "and generate a table with the values of our variables at `tmax` at each value of FGF and IC."
   ]
  },
  {
   "cell_type": "code",
   "execution_count": 5,
   "metadata": {
    "execution": {
     "iopub.execute_input": "2022-07-06T07:38:09.266777Z",
     "iopub.status.busy": "2022-07-06T07:38:09.266430Z",
     "iopub.status.idle": "2022-07-06T07:38:09.317233Z",
     "shell.execute_reply": "2022-07-06T07:38:09.316123Z",
     "shell.execute_reply.started": "2022-07-06T07:38:09.266736Z"
    }
   },
   "outputs": [],
   "source": [
    "# this is so that the module is reloaded , otherwise updates in the module are not read in\n",
    "%load_ext autoreload\n",
    "%autoreload"
   ]
  },
  {
   "cell_type": "code",
   "execution_count": 6,
   "metadata": {
    "execution": {
     "iopub.execute_input": "2022-07-06T07:38:09.673974Z",
     "iopub.status.busy": "2022-07-06T07:38:09.673364Z",
     "iopub.status.idle": "2022-07-06T07:38:11.106778Z",
     "shell.execute_reply": "2022-07-06T07:38:11.105898Z",
     "shell.execute_reply.started": "2022-07-06T07:38:09.673896Z"
    }
   },
   "outputs": [
    {
     "name": "stdout",
     "output_type": "stream",
     "text": [
      "Loading from file 2_table_all_ic_NGE_nics2000_tmax200.txt\n",
      "(100000, 7)\n"
     ]
    }
   ],
   "source": [
    "tmax = 200 # when to stop the ODE integration\n",
    "N_ics = 2000 #number of initial ocnditions to scan\n",
    "ic_range = [0.01,17]# the [min,max] specyifing the range for values to be picked for Gata/Nanog/ESRRB, i.e. randomly from a cube\n",
    "\n",
    "table_all_ic = []\n",
    "fname = str(file_label) + '_table_all_ic_NGE_nics' + str(N_ics) + '_tmax' + str(tmax) + '.txt'# make a string that will be our file name\n",
    "\n",
    "try:# try to load from file\n",
    "    table_all_ic = np.loadtxt(fname)\n",
    "    print(\"Loading from file\", fname)\n",
    "except:#if loading failed, e.g. file does not exist, then generate and save new\n",
    "    print(\"did not find file, generating new table_all_ic\")\n",
    "    ics = generate_ic_to_scan_random(ic_range=ic_range, N_points = N_ics)# here we can make the table of initial conditions as we want, e.g. to test the \"biologicla\" ones we outlined\n",
    "    #print(np.shape(ics))\n",
    "    #print(ics)\n",
    "    table_all_ic = scan_ic_v2(parameters, equation, FGF_list, ics, tmax)# alal consider saving this table into a file, so that we can un once and analyze after\n",
    "    np.savetxt(fname, table_all_ic)\n",
    "print(np.shape(table_all_ic))"
   ]
  },
  {
   "cell_type": "markdown",
   "metadata": {
    "tags": []
   },
   "source": [
    "## Bifurcation plot \n"
   ]
  },
  {
   "cell_type": "code",
   "execution_count": 7,
   "metadata": {
    "execution": {
     "iopub.execute_input": "2022-07-06T07:38:11.108385Z",
     "iopub.status.busy": "2022-07-06T07:38:11.108026Z",
     "iopub.status.idle": "2022-07-06T07:38:12.295029Z",
     "shell.execute_reply": "2022-07-06T07:38:12.294319Z",
     "shell.execute_reply.started": "2022-07-06T07:38:11.108350Z"
    }
   },
   "outputs": [
    {
     "data": {
      "image/png": "[encoded data removed]",
      "text/plain": [
       "<Figure size 864x288 with 3 Axes>"
      ]
     },
     "metadata": {
      "needs_background": "light"
     },
     "output_type": "display_data"
    }
   ],
   "source": [
    "plot_bifurcation_v4(table_all_ic, file_label = file_label)"
   ]
  },
  {
   "cell_type": "code",
   "execution_count": null,
   "metadata": {},
   "outputs": [],
   "source": []
  }
 ],
 "metadata": {
  "kernelspec": {
   "display_name": "Python [conda env:EGENmodel]",
   "language": "python",
   "name": "conda-env-EGENmodel-py"
  },
  "language_info": {
   "codemirror_mode": {
    "name": "ipython",
    "version": 3
   },
   "file_extension": ".py",
   "mimetype": "text/x-python",
   "name": "python",
   "nbconvert_exporter": "python",
   "pygments_lexer": "ipython3",
   "version": "3.7.12"
  }
 },
 "nbformat": 4,
 "nbformat_minor": 5
}
