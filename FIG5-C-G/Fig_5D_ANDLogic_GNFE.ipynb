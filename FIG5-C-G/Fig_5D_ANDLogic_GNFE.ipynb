{
 "cells": [
  {
   "cell_type": "code",
   "execution_count": 1,
   "metadata": {
    "execution": {
     "iopub.execute_input": "2022-07-06T07:47:34.870963Z",
     "iopub.status.busy": "2022-07-06T07:47:34.870274Z",
     "iopub.status.idle": "2022-07-06T07:47:35.857488Z",
     "shell.execute_reply": "2022-07-06T07:47:35.856511Z",
     "shell.execute_reply.started": "2022-07-06T07:47:34.870802Z"
    }
   },
   "outputs": [],
   "source": [
    "from Module_20220302 import *"
   ]
  },
  {
   "cell_type": "code",
   "execution_count": 2,
   "metadata": {
    "execution": {
     "iopub.execute_input": "2022-07-06T07:47:35.859258Z",
     "iopub.status.busy": "2022-07-06T07:47:35.859041Z",
     "iopub.status.idle": "2022-07-06T07:47:35.862915Z",
     "shell.execute_reply": "2022-07-06T07:47:35.862191Z",
     "shell.execute_reply.started": "2022-07-06T07:47:35.859220Z"
    }
   },
   "outputs": [],
   "source": [
    "equation = equations_NGE_and_F\n",
    "file_label = 3"
   ]
  },
  {
   "cell_type": "markdown",
   "metadata": {},
   "source": [
    "## Create a list of FGF values for bifurvation plot"
   ]
  },
  {
   "cell_type": "code",
   "execution_count": 3,
   "metadata": {
    "execution": {
     "iopub.execute_input": "2022-07-06T07:47:35.863981Z",
     "iopub.status.busy": "2022-07-06T07:47:35.863781Z",
     "iopub.status.idle": "2022-07-06T07:47:35.873900Z",
     "shell.execute_reply": "2022-07-06T07:47:35.873003Z",
     "shell.execute_reply.started": "2022-07-06T07:47:35.863944Z"
    }
   },
   "outputs": [],
   "source": [
    "## Bifurcation plots, Nanog/Gata vs FGF\n",
    "#Creat a list of FGF where we will evaluate our system, i..e get var1(tmax) and var2(tmac) with given ic.\n",
    "FGF_list = []\n",
    "FGF_list = np.logspace(lin_to_log(0.3),lin_to_log(2.5),50, base = 2 )# do log-spaced FGF, "
   ]
  },
  {
   "cell_type": "markdown",
   "metadata": {
    "tags": []
   },
   "source": [
    "# Scan initial conditions  and see where they end up after tmax\n",
    "Pick rnadom Nanog and Gata, with some fixed EssrB,  randomly form loguniform\n",
    "and generate a table with the values of our variables at `tmax` at each value of FGF and IC."
   ]
  },
  {
   "cell_type": "code",
   "execution_count": 4,
   "metadata": {
    "execution": {
     "iopub.execute_input": "2022-07-06T07:47:35.875318Z",
     "iopub.status.busy": "2022-07-06T07:47:35.875060Z",
     "iopub.status.idle": "2022-07-06T07:47:35.928432Z",
     "shell.execute_reply": "2022-07-06T07:47:35.927388Z",
     "shell.execute_reply.started": "2022-07-06T07:47:35.875283Z"
    }
   },
   "outputs": [],
   "source": [
    "# this is so that the module is reloaded , otherwise updates in the module are not read in\n",
    "%load_ext autoreload\n",
    "%autoreload"
   ]
  },
  {
   "cell_type": "code",
   "execution_count": 5,
   "metadata": {
    "execution": {
     "iopub.execute_input": "2022-07-06T07:47:36.548947Z",
     "iopub.status.busy": "2022-07-06T07:47:36.548698Z",
     "iopub.status.idle": "2022-07-06T07:47:38.044964Z",
     "shell.execute_reply": "2022-07-06T07:47:38.044050Z",
     "shell.execute_reply.started": "2022-07-06T07:47:36.548921Z"
    }
   },
   "outputs": [
    {
     "name": "stdout",
     "output_type": "stream",
     "text": [
      "Loading from file 3_table_all_ic_NGE_nics2000_tmax200.txt\n",
      "(100000, 7)\n"
     ]
    }
   ],
   "source": [
    "tmax = 200 # when to stop the ODE integration\n",
    "N_ics = 2000 #number of initial ocnditions to scan\n",
    "ic_range = [0.01,17]# the [min,max] specyifing hte range for values to be picked for Gata/Nanog/ESSRB, i.e. randomly from a cube\n",
    "\n",
    "table_all_ic = []\n",
    "fname = str(file_label) + '_table_all_ic_NGE_nics' + str(N_ics) + '_tmax' + str(tmax) + '.txt'# make a string that will be our file name\n",
    "\n",
    "try:# try to load from file\n",
    "    table_all_ic = np.loadtxt(fname)\n",
    "    print(\"Loading from file\", fname)\n",
    "except:#if loading failed, e.g. file does not exist, then generate and save new\n",
    "    print(\"did not find file, generating new table_all_ic\")\n",
    "    ics = generate_ic_to_scan_random(ic_range=ic_range, N_points = N_ics)# here we can make the table of initial conditions as we want, e.g. to test the \"biologicla\" ones we outlined\n",
    "    #print(np.shape(ics))\n",
    "    #print(ics)\n",
    "    table_all_ic = scan_ic_v2(parameters, equation, FGF_list, ics, tmax)# alal consider saving this table into a file, so that we can un once and analyze after\n",
    "    np.savetxt(fname, table_all_ic)\n",
    "print(np.shape(table_all_ic))"
   ]
  },
  {
   "cell_type": "markdown",
   "metadata": {
    "tags": []
   },
   "source": [
    "## Bifurcation plot \n"
   ]
  },
  {
   "cell_type": "code",
   "execution_count": 6,
   "metadata": {
    "execution": {
     "iopub.execute_input": "2022-07-06T07:47:38.046432Z",
     "iopub.status.busy": "2022-07-06T07:47:38.046174Z",
     "iopub.status.idle": "2022-07-06T07:47:50.447936Z",
     "shell.execute_reply": "2022-07-06T07:47:50.447250Z",
     "shell.execute_reply.started": "2022-07-06T07:47:38.046406Z"
    }
   },
   "outputs": [
    {
     "data": {
      "image/png": "[encoded data removed]",
      "text/plain": [
       "<Figure size 864x288 with 3 Axes>"
      ]
     },
     "metadata": {
      "needs_background": "light"
     },
     "output_type": "display_data"
    }
   ],
   "source": [
    "plot_bifurcation_v4(table_all_ic, file_label = file_label)"
   ]
  },
  {
   "cell_type": "code",
   "execution_count": null,
   "metadata": {},
   "outputs": [],
   "source": []
  }
 ],
 "metadata": {
  "kernelspec": {
   "display_name": "Python [conda env:EGENmodel]",
   "language": "python",
   "name": "conda-env-EGENmodel-py"
  },
  "language_info": {
   "codemirror_mode": {
    "name": "ipython",
    "version": 3
   },
   "file_extension": ".py",
   "mimetype": "text/x-python",
   "name": "python",
   "nbconvert_exporter": "python",
   "pygments_lexer": "ipython3",
   "version": "3.7.12"
  }
 },
 "nbformat": 4,
 "nbformat_minor": 5
}
