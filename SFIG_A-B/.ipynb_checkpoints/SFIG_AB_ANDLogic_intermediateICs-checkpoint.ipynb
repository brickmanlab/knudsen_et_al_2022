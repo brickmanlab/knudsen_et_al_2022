{
 "cells": [
  {
   "cell_type": "code",
   "execution_count": 1,
   "metadata": {
    "execution": {
     "iopub.execute_input": "2022-07-06T09:33:24.442965Z",
     "iopub.status.busy": "2022-07-06T09:33:24.440892Z",
     "iopub.status.idle": "2022-07-06T09:33:25.429860Z",
     "shell.execute_reply": "2022-07-06T09:33:25.429081Z",
     "shell.execute_reply.started": "2022-07-06T09:33:24.442721Z"
    }
   },
   "outputs": [],
   "source": [
    "from Module_20220302 import *"
   ]
  },
  {
   "cell_type": "markdown",
   "metadata": {},
   "source": [
    "# GNF intermediate ICs"
   ]
  },
  {
   "cell_type": "code",
   "execution_count": 2,
   "metadata": {
    "execution": {
     "iopub.execute_input": "2022-07-06T09:33:25.431509Z",
     "iopub.status.busy": "2022-07-06T09:33:25.431154Z",
     "iopub.status.idle": "2022-07-06T09:33:25.435111Z",
     "shell.execute_reply": "2022-07-06T09:33:25.434446Z",
     "shell.execute_reply.started": "2022-07-06T09:33:25.431482Z"
    }
   },
   "outputs": [],
   "source": [
    "equation = equations_NG_and_F\n",
    "file_label = 2"
   ]
  },
  {
   "cell_type": "markdown",
   "metadata": {},
   "source": [
    "## Create a list of FGF values"
   ]
  },
  {
   "cell_type": "code",
   "execution_count": 3,
   "metadata": {
    "execution": {
     "iopub.execute_input": "2022-07-06T09:33:25.991441Z",
     "iopub.status.busy": "2022-07-06T09:33:25.990828Z",
     "iopub.status.idle": "2022-07-06T09:33:25.999930Z",
     "shell.execute_reply": "2022-07-06T09:33:25.998110Z",
     "shell.execute_reply.started": "2022-07-06T09:33:25.991364Z"
    }
   },
   "outputs": [],
   "source": [
    "FGF_list = [0.65,0.75,0.85,0.95,1]"
   ]
  },
  {
   "cell_type": "markdown",
   "metadata": {
    "tags": []
   },
   "source": [
    "## Scan initial conditions, see where they end up at intermediate tmax [0.5,1,2], at steady state tmax [50] and save files"
   ]
  },
  {
   "cell_type": "code",
   "execution_count": 4,
   "metadata": {
    "execution": {
     "iopub.execute_input": "2022-07-06T09:33:26.845311Z",
     "iopub.status.busy": "2022-07-06T09:33:26.844987Z",
     "iopub.status.idle": "2022-07-06T09:33:26.903071Z",
     "shell.execute_reply": "2022-07-06T09:33:26.902196Z",
     "shell.execute_reply.started": "2022-07-06T09:33:26.845276Z"
    }
   },
   "outputs": [],
   "source": [
    "# this is so that the module is reloaded , otherwise updates in the module are not read in\n",
    "%load_ext autoreload\n",
    "%autoreload\n"
   ]
  },
  {
   "cell_type": "code",
   "execution_count": 5,
   "metadata": {
    "execution": {
     "iopub.execute_input": "2022-07-06T09:33:27.271836Z",
     "iopub.status.busy": "2022-07-06T09:33:27.271580Z",
     "iopub.status.idle": "2022-07-06T09:33:27.909141Z",
     "shell.execute_reply": "2022-07-06T09:33:27.908421Z",
     "shell.execute_reply.started": "2022-07-06T09:33:27.271798Z"
    }
   },
   "outputs": [
    {
     "name": "stdout",
     "output_type": "stream",
     "text": [
      "Loading from file 2_det_tri_table_ics_[0.1, 5]_nics_50_tmax0.5.txt\n",
      "(10985, 7)\n",
      "Loading from file 2_det_tri_table_ics_[0.1, 5]_nics_50_tmax1.txt\n",
      "(10985, 7)\n",
      "Loading from file 2_det_tri_table_ics_[0.1, 5]_nics_50_tmax2.txt\n",
      "(10985, 7)\n",
      "Loading from file 2_det_tri_table_ics_[0.1, 5]_nics_50_tmax50.txt\n",
      "(10985, 7)\n"
     ]
    }
   ],
   "source": [
    "#Deterministic triangle:\n",
    "for tmax in [0.50,1,2,50]:# when to stop the ODE integration\n",
    "    N_ics = 50 #number of initial ocnditions to scan\n",
    "    ic_range = [0.1,5]#[1e-1,3*1e1]# the [min,max] specyifing hte range for values to be picked for Gata/Nanog/ESSRB, i.e. randomly from a cube\n",
    "\n",
    "    table_all_ic = []\n",
    "    fname = str(file_label) + '_det_tri' + '_table_ics' + '_' + str(ic_range) + '_nics_' + str(N_ics) + '_tmax' + str(tmax) + '.txt'# make a string that will be our file name\n",
    "\n",
    "    try:# try to load from file\n",
    "        table_all_ic = np.loadtxt(fname)\n",
    "        print(\"Loading from file\", fname)\n",
    "    except:#if loading failed, e.g. file does not exist, then generate and save new\n",
    "        print(\"did not find file, generating new table_all_ic\")\n",
    "        ics = generate_ic_to_scan_deterministic_triangle(parameters, ic_range=ic_range, N_points_1D = N_ics, file_label = file_label)# here we can make the table of initial conditions as we want, e.g. to test the \"biologicla\" ones we outlined\n",
    "        table_all_ic = scan_ic_v2(parameters, equation, FGF_list, ics, tmax)# alal consider saving this table into a file, so that we can un once and analyze after\n",
    "        np.savetxt(fname, table_all_ic)\n",
    "    print(np.shape(table_all_ic))"
   ]
  },
  {
   "cell_type": "markdown",
   "metadata": {},
   "source": [
    "# GNFE intermediate ICs"
   ]
  },
  {
   "cell_type": "code",
   "execution_count": 6,
   "metadata": {
    "execution": {
     "iopub.execute_input": "2022-07-06T09:33:29.005495Z",
     "iopub.status.busy": "2022-07-06T09:33:29.005050Z",
     "iopub.status.idle": "2022-07-06T09:33:29.011271Z",
     "shell.execute_reply": "2022-07-06T09:33:29.010035Z",
     "shell.execute_reply.started": "2022-07-06T09:33:29.005432Z"
    }
   },
   "outputs": [],
   "source": [
    "equation = equations_NGE_and_F\n",
    "file_label = 3"
   ]
  },
  {
   "cell_type": "markdown",
   "metadata": {
    "tags": []
   },
   "source": [
    "# Scan initial conditions, see where they end up at intermediate tmax [0.5,1,2], at steady state tmax [50] and save files"
   ]
  },
  {
   "cell_type": "code",
   "execution_count": 7,
   "metadata": {
    "execution": {
     "iopub.execute_input": "2022-07-06T09:33:31.257471Z",
     "iopub.status.busy": "2022-07-06T09:33:31.256831Z",
     "iopub.status.idle": "2022-07-06T09:33:31.290752Z",
     "shell.execute_reply": "2022-07-06T09:33:31.289825Z",
     "shell.execute_reply.started": "2022-07-06T09:33:31.257394Z"
    }
   },
   "outputs": [
    {
     "name": "stdout",
     "output_type": "stream",
     "text": [
      "The autoreload extension is already loaded. To reload it, use:\n",
      "  %reload_ext autoreload\n"
     ]
    }
   ],
   "source": [
    "# this is so that the module is reloaded , otherwise updates in the module are not read in\n",
    "%load_ext autoreload\n",
    "%autoreload\n"
   ]
  },
  {
   "cell_type": "code",
   "execution_count": 8,
   "metadata": {
    "execution": {
     "iopub.execute_input": "2022-07-06T09:33:32.652440Z",
     "iopub.status.busy": "2022-07-06T09:33:32.651760Z",
     "iopub.status.idle": "2022-07-06T09:33:33.312106Z",
     "shell.execute_reply": "2022-07-06T09:33:33.311204Z",
     "shell.execute_reply.started": "2022-07-06T09:33:32.652362Z"
    }
   },
   "outputs": [
    {
     "name": "stdout",
     "output_type": "stream",
     "text": [
      "Loading from file 3_det_tri_table_ics_[0.1, 5]_nics_50_tmax0.5.txt\n",
      "(10985, 7)\n",
      "Loading from file 3_det_tri_table_ics_[0.1, 5]_nics_50_tmax1.txt\n",
      "(10985, 7)\n",
      "Loading from file 3_det_tri_table_ics_[0.1, 5]_nics_50_tmax2.txt\n",
      "(10985, 7)\n",
      "Loading from file 3_det_tri_table_ics_[0.1, 5]_nics_50_tmax50.txt\n",
      "(10985, 7)\n"
     ]
    }
   ],
   "source": [
    "#Deterministic triangle:\n",
    "for tmax in [0.50,1,2,50]:# when to stop the ODE integration\n",
    "    N_ics = 50 #number of initial ocnditions to scan\n",
    "    ic_range = [0.1,5]#[1e-1,3*1e1]# the [min,max] specyifing hte range for values to be picked for Gata/Nanog/ESSRB, i.e. randomly from a cube\n",
    "\n",
    "    table_all_ic = []\n",
    "    fname = str(file_label) + '_det_tri' + '_table_ics' + '_' + str(ic_range) + '_nics_' + str(N_ics) + '_tmax' + str(tmax) + '.txt'# make a string that will be our file name\n",
    "\n",
    "    try:# try to load from file\n",
    "        table_all_ic = np.loadtxt(fname)\n",
    "        print(\"Loading from file\", fname)\n",
    "    except:#if loading failed, e.g. file does not exist, then generate and save new\n",
    "        print(\"did not find file, generating new table_all_ic\")\n",
    "        ics = generate_ic_to_scan_deterministic_triangle(parameters, ic_range=ic_range, N_points_1D = N_ics, file_label = file_label)# here we can make the table of initial conditions as we want, e.g. to test the \"biologicla\" ones we outlined\n",
    "        table_all_ic = scan_ic_v2(parameters, equation, FGF_list, ics, tmax)# alal consider saving this table into a file, so that we can un once and analyze after\n",
    "        np.savetxt(fname, table_all_ic)\n",
    "    print(np.shape(table_all_ic))"
   ]
  },
  {
   "cell_type": "code",
   "execution_count": null,
   "metadata": {},
   "outputs": [],
   "source": []
  },
  {
   "cell_type": "code",
   "execution_count": null,
   "metadata": {},
   "outputs": [],
   "source": []
  }
 ],
 "metadata": {
  "kernelspec": {
   "display_name": "Python [conda env:EGENmodel]",
   "language": "python",
   "name": "conda-env-EGENmodel-py"
  },
  "language_info": {
   "codemirror_mode": {
    "name": "ipython",
    "version": 3
   },
   "file_extension": ".py",
   "mimetype": "text/x-python",
   "name": "python",
   "nbconvert_exporter": "python",
   "pygments_lexer": "ipython3",
   "version": "3.7.12"
  }
 },
 "nbformat": 4,
 "nbformat_minor": 5
}
